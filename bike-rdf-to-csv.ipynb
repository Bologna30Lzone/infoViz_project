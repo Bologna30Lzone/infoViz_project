{
 "cells": [
  {
   "cell_type": "markdown",
   "id": "c232e163",
   "metadata": {},
   "source": [
    "# Dataset conversion\n",
    "This dataset, provided by the City of Bologna, provides data about hourly bicycle traffic counts collected continuously at various locations throughout the city.\n",
    "For the San Donato, Parri, Ercolani, and Sabotino counters, data is updated monthly, while for all other counters updates are provided daily.\n",
    "\n",
    "The dataset is accessible in RDF/XML format at [data.europa.eu](http://data.europa.eu/88u/dataset/c_a944-colonnine-conta-bici)\n",
    "\n",
    "In this notebook the dataset is converted from the original RDF/XML into tabular format (CSV) for the sake of speed and ease of access in subsequent operations."
   ]
  },
  {
   "cell_type": "code",
   "execution_count": 22,
   "id": "037acf03",
   "metadata": {},
   "outputs": [],
   "source": [
    "import xml.etree.ElementTree as ET\n",
    "import csv\n",
    "from pathlib import Path"
   ]
  },
  {
   "cell_type": "markdown",
   "id": "504d02ab",
   "metadata": {},
   "source": [
    "## Specify input/output parameters\n",
    "Edit the fields if needed"
   ]
  },
  {
   "cell_type": "code",
   "execution_count": 23,
   "id": "cabefb52",
   "metadata": {},
   "outputs": [],
   "source": [
    "rdf_path = Path(\"colonnine-conta-bici.rdf\")\n",
    "csv_path = Path(\"colonnine-conta-bici.csv\")"
   ]
  },
  {
   "cell_type": "markdown",
   "id": "b165be36",
   "metadata": {},
   "source": [
    "## Function Definitions\n",
    "\n",
    "This cell defines two functions used to convert the `colonnine-conta-bici.rdf` file into a structured CSV.\n",
    "\n",
    "The first function, `detect_namespace`, takes the root of the parsed RDF/XML tree and a local tag name (`colonnine-conta-bici-record`). It iterates through the XML elements to find the first occurrence of a tag with the given local name, then extracts and returns its associated namespace URI. This is necessary because RDF/XML uses fully qualified tag names that include the namespace in curly braces.\n",
    "\n",
    "The second function, `rdfxml_to_csv`, handles the actual conversion process. It parses the RDF file, determines the namespace using `detect_namespace`, and finds all the `<colonnine-conta-bici-record>` elements. The function then extracts six predefined fields-`colonnina`, `totale`, `direzione_periferia`, `direzione_centro`, `geo_point_2d`, and `data`-from each record and writes them into a CSV file. Each field is retrieved as a direct child of the record element, and if a field is missing, an empty string is written in its place."
   ]
  },
  {
   "cell_type": "code",
   "execution_count": 24,
   "id": "1d667f4d",
   "metadata": {},
   "outputs": [],
   "source": [
    "def detect_namespace(root, record_local_name: str) -> str:\n",
    "    for elem in root.iter():\n",
    "        if isinstance(elem.tag, str) and elem.tag.startswith(\"{\"):\n",
    "            uri, local = elem.tag[1:].split(\"}\")\n",
    "            if local == record_local_name:\n",
    "                return uri\n",
    "    raise ValueError(f\"Tag record '{record_local_name}' not found\")\n",
    "\n",
    "def rdfxml_to_csv(rdf_path: Path, csv_path: Path):\n",
    "    tree = ET.parse(rdf_path)\n",
    "    root = tree.getroot()\n",
    "    record_local = \"colonnine-conta-bici-record\"\n",
    "    fields = [\"colonnina\",\"totale\",\"direzione_periferia\",\"direzione_centro\",\"geo_point_2d\",\"data\"]\n",
    "    ns_uri = detect_namespace(root, record_local)\n",
    "    ns = {\"ns\": ns_uri}\n",
    "    records = root.findall(f\".//ns:{record_local}\", ns)\n",
    "    with open(csv_path, \"w\", newline=\"\", encoding=\"utf-8\") as f:\n",
    "        writer = csv.writer(f)\n",
    "        writer.writerow(fields)\n",
    "        for rec in records:\n",
    "            row = []\n",
    "            for fld in fields:\n",
    "                el = rec.find(f\"ns:{fld}\", ns)\n",
    "                row.append(el.text.strip() if el is not None and el.text else \"\")\n",
    "            writer.writerow(row)\n",
    "    print(f\"[OK] {len(records)} records written in {csv_path}\")"
   ]
  },
  {
   "cell_type": "code",
   "execution_count": 25,
   "id": "256964b8",
   "metadata": {},
   "outputs": [
    {
     "name": "stdout",
     "output_type": "stream",
     "text": [
      "[OK] 298436 records written in colonnine-conta-bici.csv\n"
     ]
    }
   ],
   "source": [
    "rdfxml_to_csv(rdf_path, csv_path)"
   ]
  },
  {
   "cell_type": "markdown",
   "id": "99fa7807",
   "metadata": {},
   "source": [
    "## Exemplar table visualization\n",
    "Visualize the first 10 rows of the dataset"
   ]
  },
  {
   "cell_type": "code",
   "execution_count": 37,
   "id": "8e0a6730",
   "metadata": {},
   "outputs": [
    {
     "data": {
      "text/html": [
       "<div>\n",
       "<style scoped>\n",
       "    .dataframe tbody tr th:only-of-type {\n",
       "        vertical-align: middle;\n",
       "    }\n",
       "\n",
       "    .dataframe tbody tr th {\n",
       "        vertical-align: top;\n",
       "    }\n",
       "\n",
       "    .dataframe thead th {\n",
       "        text-align: right;\n",
       "    }\n",
       "</style>\n",
       "<table border=\"1\" class=\"dataframe\">\n",
       "  <thead>\n",
       "    <tr style=\"text-align: right;\">\n",
       "      <th></th>\n",
       "      <th>colonnina</th>\n",
       "      <th>totale</th>\n",
       "      <th>direzione_periferia</th>\n",
       "      <th>direzione_centro</th>\n",
       "      <th>geo_point_2d</th>\n",
       "      <th>data</th>\n",
       "    </tr>\n",
       "  </thead>\n",
       "  <tbody>\n",
       "    <tr>\n",
       "      <th>0</th>\n",
       "      <td>Orti_II</td>\n",
       "      <td>3</td>\n",
       "      <td>3</td>\n",
       "      <td>NaN</td>\n",
       "      <td>44.47624162079627,11.37609044129954</td>\n",
       "      <td>2025-06-09 21:00:00+00:00</td>\n",
       "    </tr>\n",
       "    <tr>\n",
       "      <th>1</th>\n",
       "      <td>Murri_I</td>\n",
       "      <td>5</td>\n",
       "      <td>5</td>\n",
       "      <td>NaN</td>\n",
       "      <td>44.48440745989066,11.35658715560829</td>\n",
       "      <td>2025-06-09 20:00:00+00:00</td>\n",
       "    </tr>\n",
       "    <tr>\n",
       "      <th>2</th>\n",
       "      <td>Mazzini_II</td>\n",
       "      <td>130</td>\n",
       "      <td>NaN</td>\n",
       "      <td>130</td>\n",
       "      <td>44.48936290709702,11.35940582976347</td>\n",
       "      <td>2025-06-10 05:00:00+00:00</td>\n",
       "    </tr>\n",
       "    <tr>\n",
       "      <th>3</th>\n",
       "      <td>Sturzo_II</td>\n",
       "      <td>14</td>\n",
       "      <td>14</td>\n",
       "      <td>NaN</td>\n",
       "      <td>44.48820778081575,11.29599058158018</td>\n",
       "      <td>2025-06-10 07:00:00+00:00</td>\n",
       "    </tr>\n",
       "    <tr>\n",
       "      <th>4</th>\n",
       "      <td>Massarenti_II</td>\n",
       "      <td>33</td>\n",
       "      <td>NaN</td>\n",
       "      <td>33</td>\n",
       "      <td>44.49300884795814,11.37056742338153</td>\n",
       "      <td>2025-06-10 02:00:00+00:00</td>\n",
       "    </tr>\n",
       "    <tr>\n",
       "      <th>5</th>\n",
       "      <td>Zanardi_I</td>\n",
       "      <td>NaN</td>\n",
       "      <td>NaN</td>\n",
       "      <td>NaN</td>\n",
       "      <td>44.50817288812807,11.32990298071598</td>\n",
       "      <td>2025-06-09 22:00:00+00:00</td>\n",
       "    </tr>\n",
       "    <tr>\n",
       "      <th>6</th>\n",
       "      <td>Murri_II</td>\n",
       "      <td>7</td>\n",
       "      <td>NaN</td>\n",
       "      <td>7</td>\n",
       "      <td>44.48418981668801,11.35719458905058</td>\n",
       "      <td>2025-06-09 21:00:00+00:00</td>\n",
       "    </tr>\n",
       "    <tr>\n",
       "      <th>7</th>\n",
       "      <td>Zanardi_II</td>\n",
       "      <td>191</td>\n",
       "      <td>191</td>\n",
       "      <td>NaN</td>\n",
       "      <td>44.5082267800901,11.32964907760978</td>\n",
       "      <td>2025-06-10 04:00:00+00:00</td>\n",
       "    </tr>\n",
       "    <tr>\n",
       "      <th>8</th>\n",
       "      <td>Zanardi_II</td>\n",
       "      <td>1</td>\n",
       "      <td>1</td>\n",
       "      <td>NaN</td>\n",
       "      <td>44.5082267800901,11.32964907760978</td>\n",
       "      <td>2025-06-09 20:00:00+00:00</td>\n",
       "    </tr>\n",
       "    <tr>\n",
       "      <th>9</th>\n",
       "      <td>Zanardi_II</td>\n",
       "      <td>68</td>\n",
       "      <td>68</td>\n",
       "      <td>NaN</td>\n",
       "      <td>44.5082267800901,11.32964907760978</td>\n",
       "      <td>2025-06-10 08:00:00+00:00</td>\n",
       "    </tr>\n",
       "  </tbody>\n",
       "</table>\n",
       "</div>"
      ],
      "text/plain": [
       "       colonnina  totale  direzione_periferia  direzione_centro  \\\n",
       "0        Orti_II       3                    3               NaN   \n",
       "1        Murri_I       5                    5               NaN   \n",
       "2     Mazzini_II     130                  NaN               130   \n",
       "3      Sturzo_II      14                   14               NaN   \n",
       "4  Massarenti_II      33                  NaN                33   \n",
       "5      Zanardi_I     NaN                  NaN               NaN   \n",
       "6       Murri_II       7                  NaN                 7   \n",
       "7     Zanardi_II     191                  191               NaN   \n",
       "8     Zanardi_II       1                    1               NaN   \n",
       "9     Zanardi_II      68                   68               NaN   \n",
       "\n",
       "                          geo_point_2d                       data  \n",
       "0  44.47624162079627,11.37609044129954  2025-06-09 21:00:00+00:00  \n",
       "1  44.48440745989066,11.35658715560829  2025-06-09 20:00:00+00:00  \n",
       "2  44.48936290709702,11.35940582976347  2025-06-10 05:00:00+00:00  \n",
       "3  44.48820778081575,11.29599058158018  2025-06-10 07:00:00+00:00  \n",
       "4  44.49300884795814,11.37056742338153  2025-06-10 02:00:00+00:00  \n",
       "5  44.50817288812807,11.32990298071598  2025-06-09 22:00:00+00:00  \n",
       "6  44.48418981668801,11.35719458905058  2025-06-09 21:00:00+00:00  \n",
       "7   44.5082267800901,11.32964907760978  2025-06-10 04:00:00+00:00  \n",
       "8   44.5082267800901,11.32964907760978  2025-06-09 20:00:00+00:00  \n",
       "9   44.5082267800901,11.32964907760978  2025-06-10 08:00:00+00:00  "
      ]
     },
     "metadata": {},
     "output_type": "display_data"
    }
   ],
   "source": [
    "import pandas as pd\n",
    "\n",
    "df = pd.read_csv(csv_path)\n",
    "\n",
    "pd.set_option('display.max_columns', None)\n",
    "\n",
    "display(df.head(10))\n"
   ]
  },
  {
   "cell_type": "markdown",
   "id": "283ef7f0",
   "metadata": {},
   "source": [
    "## Dataset Integration with Speed Limits"
   ]
  },
  {
   "cell_type": "markdown",
   "id": "795f16fd",
   "metadata": {},
   "source": []
  }
 ],
 "metadata": {
  "kernelspec": {
   "display_name": "Python 3",
   "language": "python",
   "name": "python3"
  },
  "language_info": {
   "codemirror_mode": {
    "name": "ipython",
    "version": 3
   },
   "file_extension": ".py",
   "mimetype": "text/x-python",
   "name": "python",
   "nbconvert_exporter": "python",
   "pygments_lexer": "ipython3",
   "version": "3.12.2"
  }
 },
 "nbformat": 4,
 "nbformat_minor": 5
}
